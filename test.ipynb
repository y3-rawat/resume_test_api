{
 "cells": [
  {
   "cell_type": "code",
   "execution_count": 1,
   "metadata": {},
   "outputs": [],
   "source": [
    "\n",
    "groq_keys = [\"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\",\"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\",\"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\",\"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\",\"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\",\"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\"]"
   ]
  },
  {
   "cell_type": "code",
   "execution_count": 2,
   "metadata": {},
   "outputs": [
    {
     "data": {
      "text/plain": [
       "6"
      ]
     },
     "execution_count": 2,
     "metadata": {},
     "output_type": "execute_result"
    }
   ],
   "source": [
    "len(groq_keys)"
   ]
  },
  {
   "cell_type": "code",
   "execution_count": null,
   "metadata": {},
   "outputs": [],
   "source": []
  }
 ],
 "metadata": {
  "language_info": {
   "name": "python"
  }
 },
 "nbformat": 4,
 "nbformat_minor": 2
}
