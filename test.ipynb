{
 "cells": [
  {
   "cell_type": "code",
   "execution_count": 1,
   "metadata": {},
   "outputs": [],
   "source": [
    "\n",
    "groq_keys = [\"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\",\"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\",\"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\",\"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\",\"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\",\"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\"]"
   ]
  },
  {
   "cell_type": "code",
   "execution_count": 24,
   "metadata": {},
   "outputs": [],
   "source": [
    "import json\n",
    "project_error = \"\"\"\n",
    "{ \"output\":\n",
    "        {\"project_impact\":\n",
    "         {\"impact\": {\n",
    "                'An Error Occured': \"404\"\n",
    "                },\n",
    "        'advice': \"An Error Occured At this part.\",\n",
    "        \n",
    "        'suggestion1': 'Something Went Wrong!.',\n",
    "        'suggestion2': 'Something Went Wrong!.',\n",
    "        'suggestion3': \"Something Went Wrong!.\"\n",
    "        }\n",
    "        }\n",
    "        }\"\"\""
   ]
  },
  {
   "cell_type": "code",
   "execution_count": 34,
   "metadata": {},
   "outputs": [],
   "source": [
    "pe =   \"\"\"\n",
    "{ \"output\":\n",
    "{\n",
    "           \"ats_score\": {\n",
    "            \"title\": \"Ats Score\",\n",
    "            \"description\": \"504\",\n",
    "            \"type\": \"integer\"\n",
    "        },\n",
    "        \"ats_description\": {\n",
    "            \"title\": \"Ats Description\",\n",
    "            \"description\": \"Error Occured!\",\n",
    "            \"type\": \"string\"\n",
    "        },\n",
    "        \"ats_reason\": {\n",
    "            \"title\": \"Ats Reason\",\n",
    "            \"description\": \"Please Report this problem! :(\",\n",
    "            \"type\": \"string\"\n",
    "        },\n",
    "        \"ats_improvementTip\": {\n",
    "            \"title\": \"Ats Improvementtip\",\n",
    "            \"description\": \"Error Occurred!\",\n",
    "            \"type\": \"string\"\n",
    "        },\n",
    "        \"jd_score\": {\n",
    "            \"title\": \"Jd Score\",\n",
    "            \"description\": \"504\",\n",
    "            \"type\": \"integer\"\n",
    "        },\n",
    "        \"jd_description\": {\n",
    "            \"title\": \"Jd Description\",\n",
    "            \"description\": \"Error Occured!\",\n",
    "            \"type\": \"string\"\n",
    "        },\n",
    "        \"jd_reason\": {\n",
    "            \"title\": \"Jd Reason\",\n",
    "            \"description\": \"Please Report this problem! :(\",\n",
    "            \"type\": \"string\"\n",
    "        },\n",
    "        \"jd_improvementTip\": {\n",
    "            \"title\": \"Jd Improvementtip\",\n",
    "            \"description\": \"Error Occurred!\",\n",
    "            \"type\": \"string\"\n",
    "        }\n",
    "        }\n",
    "            }\n",
    "        \n",
    "    \"\"\""
   ]
  },
  {
   "cell_type": "code",
   "execution_count": 35,
   "metadata": {},
   "outputs": [
    {
     "data": {
      "text/plain": [
       "{'output': {'ats_score': {'title': 'Ats Score',\n",
       "   'description': '504',\n",
       "   'type': 'integer'},\n",
       "  'ats_description': {'title': 'Ats Description',\n",
       "   'description': 'Error Occured!',\n",
       "   'type': 'string'},\n",
       "  'ats_reason': {'title': 'Ats Reason',\n",
       "   'description': 'Please Report this problem! :(',\n",
       "   'type': 'string'},\n",
       "  'ats_improvementTip': {'title': 'Ats Improvementtip',\n",
       "   'description': 'Error Occurred!',\n",
       "   'type': 'string'},\n",
       "  'jd_score': {'title': 'Jd Score', 'description': '504', 'type': 'integer'},\n",
       "  'jd_description': {'title': 'Jd Description',\n",
       "   'description': 'Error Occured!',\n",
       "   'type': 'string'},\n",
       "  'jd_reason': {'title': 'Jd Reason',\n",
       "   'description': 'Please Report this problem! :(',\n",
       "   'type': 'string'},\n",
       "  'jd_improvementTip': {'title': 'Jd Improvementtip',\n",
       "   'description': 'Error Occurred!',\n",
       "   'type': 'string'}}}"
      ]
     },
     "execution_count": 35,
     "metadata": {},
     "output_type": "execute_result"
    }
   ],
   "source": [
    "json.loads(pe)"
   ]
  },
  {
   "cell_type": "code",
   "execution_count": null,
   "metadata": {},
   "outputs": [],
   "source": []
  },
  {
   "cell_type": "code",
   "execution_count": null,
   "metadata": {},
   "outputs": [],
   "source": []
  }
 ],
 "metadata": {
  "language_info": {
   "name": "python"
  }
 },
 "nbformat": 4,
 "nbformat_minor": 2
}
